{
 "cells": [
  {
   "cell_type": "code",
   "execution_count": 357,
   "metadata": {},
   "outputs": [],
   "source": [
    "import requests\n",
    "import json\n",
    "start_date = '2019-04-08T14:00:00Z'\n",
    "end_date = '2019-04-13T14:00:00Z'\n",
    "api_key = \"K93dAo3zwcEA9KcpBAc3Y9U0Ges3KpTY\"\n",
    "url = f\"https://app.ticketmaster.com/discovery/v2/events?apikey=K93dAo3zwcEA9KcpBAc3Y9U0Ges3KpTY&countryCode=US&stateCode=NC&startDateTime={start_date}&endDateTime={end_date}&size=1&page=0\"\n",
    "test = \"https://app.ticketmaster.com/discovery/v2/events?apikey=K93dAo3zwcEA9KcpBAc3Y9U0Ges3KpTY&countryCode=US&stateCode=AL&startDateTime=2019121800T14:00:00Z&endDateTime=2019122300T14:00:00Z&size=1&page=0\"\n",
    "error = \"https://app.ticketmaster.com/discovery/v2/errors.html#DIS1035?apikey=K93dAo3zwcEA9KcpBAc3Y9U0Ges3KpTY\"\n",
    "last = \"https://app.ticketmaster.com/discovery/v2/events?apikey=K93dAo3zwcEA9KcpBAc3Y9U0Ges3KpTY&startDateTime=2019-04-08T14%3A00%3A00Z&countryCode=US&endDateTime=2019-04-13T14%3A00%3A00Z&page=18&size=200\"\n"
   ]
  },
  {
   "cell_type": "code",
   "execution_count": 356,
   "metadata": {},
   "outputs": [
    {
     "data": {
      "text/plain": [
       "{'events': [{'name': 'Zomboy',\n",
       "   'type': 'event',\n",
       "   'id': 'G5eVZ4pEls_LS',\n",
       "   'test': False,\n",
       "   'url': 'http://concerts.livenation.com/event/2D005569EBC597F3',\n",
       "   'locale': 'en-us',\n",
       "   'images': [{'ratio': '3_2',\n",
       "     'url': 'https://s1.ticketm.net/dam/a/0b7/cd8453cb-d664-47f4-abae-3362808f80b7_893831_TABLET_LANDSCAPE_3_2.jpg',\n",
       "     'width': 1024,\n",
       "     'height': 683,\n",
       "     'fallback': False},\n",
       "    {'ratio': '16_9',\n",
       "     'url': 'https://s1.ticketm.net/dam/a/0b7/cd8453cb-d664-47f4-abae-3362808f80b7_893831_EVENT_DETAIL_PAGE_16_9.jpg',\n",
       "     'width': 205,\n",
       "     'height': 115,\n",
       "     'fallback': False},\n",
       "    {'ratio': '16_9',\n",
       "     'url': 'https://s1.ticketm.net/dam/a/0b7/cd8453cb-d664-47f4-abae-3362808f80b7_893831_RECOMENDATION_16_9.jpg',\n",
       "     'width': 100,\n",
       "     'height': 56,\n",
       "     'fallback': False},\n",
       "    {'ratio': '3_2',\n",
       "     'url': 'https://s1.ticketm.net/dam/a/0b7/cd8453cb-d664-47f4-abae-3362808f80b7_893831_ARTIST_PAGE_3_2.jpg',\n",
       "     'width': 305,\n",
       "     'height': 203,\n",
       "     'fallback': False},\n",
       "    {'ratio': '16_9',\n",
       "     'url': 'https://s1.ticketm.net/dam/a/0b7/cd8453cb-d664-47f4-abae-3362808f80b7_893831_TABLET_LANDSCAPE_16_9.jpg',\n",
       "     'width': 1024,\n",
       "     'height': 576,\n",
       "     'fallback': False},\n",
       "    {'ratio': '16_9',\n",
       "     'url': 'https://s1.ticketm.net/dam/a/0b7/cd8453cb-d664-47f4-abae-3362808f80b7_893831_RETINA_PORTRAIT_16_9.jpg',\n",
       "     'width': 640,\n",
       "     'height': 360,\n",
       "     'fallback': False},\n",
       "    {'ratio': '16_9',\n",
       "     'url': 'https://s1.ticketm.net/dam/a/0b7/cd8453cb-d664-47f4-abae-3362808f80b7_893831_RETINA_LANDSCAPE_16_9.jpg',\n",
       "     'width': 1136,\n",
       "     'height': 639,\n",
       "     'fallback': False},\n",
       "    {'ratio': '4_3',\n",
       "     'url': 'https://s1.ticketm.net/dam/a/0b7/cd8453cb-d664-47f4-abae-3362808f80b7_893831_CUSTOM.jpg',\n",
       "     'width': 305,\n",
       "     'height': 225,\n",
       "     'fallback': False},\n",
       "    {'ratio': '3_2',\n",
       "     'url': 'https://s1.ticketm.net/dam/a/0b7/cd8453cb-d664-47f4-abae-3362808f80b7_893831_RETINA_PORTRAIT_3_2.jpg',\n",
       "     'width': 640,\n",
       "     'height': 427,\n",
       "     'fallback': False},\n",
       "    {'ratio': '16_9',\n",
       "     'url': 'https://s1.ticketm.net/dam/a/0b7/cd8453cb-d664-47f4-abae-3362808f80b7_893831_TABLET_LANDSCAPE_LARGE_16_9.jpg',\n",
       "     'width': 2048,\n",
       "     'height': 1152,\n",
       "     'fallback': False}],\n",
       "   'sales': {'public': {'startDateTime': '2018-11-19T18:00:00Z',\n",
       "     'startTBD': False,\n",
       "     'endDateTime': '2019-04-12T23:00:00Z'},\n",
       "    'presales': [{'startDateTime': '2018-11-18T15:00:00Z',\n",
       "      'endDateTime': '2018-11-19T03:00:00Z',\n",
       "      'name': 'Citi® Cardmember Presale'},\n",
       "     {'startDateTime': '2018-11-18T15:00:00Z',\n",
       "      'endDateTime': '2018-11-19T03:00:00Z',\n",
       "      'name': 'Live Nation Presale'},\n",
       "     {'startDateTime': '2018-11-18T15:00:00Z',\n",
       "      'endDateTime': '2018-11-19T03:00:00Z',\n",
       "      'name': 'Live Nation Mobile App Presale'},\n",
       "     {'startDateTime': '2018-11-19T18:00:00Z',\n",
       "      'endDateTime': '2019-03-13T02:00:00Z',\n",
       "      'name': 'Citi® Cardmember Preferred Tickets'}]},\n",
       "   'dates': {'start': {'localDate': '2019-04-12',\n",
       "     'localTime': '19:00:00',\n",
       "     'dateTime': '2019-04-12T23:00:00Z',\n",
       "     'dateTBD': False,\n",
       "     'dateTBA': False,\n",
       "     'timeTBA': False,\n",
       "     'noSpecificTime': False},\n",
       "    'timezone': 'America/New_York',\n",
       "    'status': {'code': 'onsale'},\n",
       "    'spanMultipleDays': False},\n",
       "   'classifications': [{'primary': True,\n",
       "     'segment': {'id': 'KZFzniwnSyZfZ7v7nJ', 'name': 'Music'},\n",
       "     'genre': {'id': 'KnvZfZ7vAvF', 'name': 'Dance/Electronic'},\n",
       "     'subGenre': {'id': 'KZazBEonSMnZfZ7va1k', 'name': 'Witchstep'},\n",
       "     'type': {'id': 'KZAyXgnZfZ7v7nI', 'name': 'Undefined'},\n",
       "     'subType': {'id': 'KZFzBErXgnZfZ7v7lJ', 'name': 'Undefined'},\n",
       "     'family': False}],\n",
       "   'promoter': {'id': '653',\n",
       "    'name': 'LIVE NATION MUSIC',\n",
       "    'description': 'LIVE NATION MUSIC / NTL / USA'},\n",
       "   'promoters': [{'id': '653',\n",
       "     'name': 'LIVE NATION MUSIC',\n",
       "     'description': 'LIVE NATION MUSIC / NTL / USA'}],\n",
       "   'info': 'The Ritz Is A General Admission Standing Room Only Venue! Doors Open At 7:00pm and Show Begins At 7:00pm!',\n",
       "   'pleaseNote': 'The Ritz Is A General Admission Standing Room Only Venue! Doors Open At 7:00pm and Show Begins At 7:00pm!',\n",
       "   'priceRanges': [{'type': 'standard',\n",
       "     'currency': 'USD',\n",
       "     'min': 20.0,\n",
       "     'max': 25.0}],\n",
       "   'products': [{'id': 'G5eVZ4pSM1Qju',\n",
       "     'url': 'http://concerts.livenation.com/event/2D00556CF729A70D',\n",
       "     'type': 'Upsell',\n",
       "     'name': 'The Ritz - Fast Lane Pass'},\n",
       "    {'id': 'G5eVZ4pSMpQjQ',\n",
       "     'url': 'http://concerts.livenation.com/event/2D00556CF759A71A',\n",
       "     'type': 'Upsell',\n",
       "     'name': 'VIP CLUB ACCESS - STELLA LOUNGE'}],\n",
       "   'ticketLimit': {'info': 'There is an overall 8 ticket limit for this event.'},\n",
       "   '_links': {'self': {'href': '/discovery/v2/events/G5eVZ4pEls_LS?locale=en-us'},\n",
       "    'attractions': [{'href': '/discovery/v2/attractions/K8vZ9172YHf?locale=en-us'}],\n",
       "    'venues': [{'href': '/discovery/v2/venues/KovZpZAJIedA?locale=en-us'}]},\n",
       "   '_embedded': {'venues': [{'name': 'The Ritz',\n",
       "      'type': 'venue',\n",
       "      'id': 'KovZpZAJIedA',\n",
       "      'test': False,\n",
       "      'url': 'https://www.ticketmaster.com/the-ritz-tickets-raleigh/venue/368675',\n",
       "      'locale': 'en-us',\n",
       "      'images': [{'ratio': '16_9',\n",
       "        'url': 'https://s1.ticketm.net/dbimages/16931v.jpg',\n",
       "        'width': 205,\n",
       "        'height': 115,\n",
       "        'fallback': False}],\n",
       "      'postalCode': '27609',\n",
       "      'timezone': 'America/New_York',\n",
       "      'city': {'name': 'Raleigh'},\n",
       "      'state': {'name': 'North Carolina', 'stateCode': 'NC'},\n",
       "      'country': {'name': 'United States Of America', 'countryCode': 'US'},\n",
       "      'address': {'line1': '2820 Industrial Drive'},\n",
       "      'location': {'longitude': '-78.619991', 'latitude': '35.815896'},\n",
       "      'markets': [{'name': 'Raleigh and Durham', 'id': '38'},\n",
       "       {'name': 'South Carolina', 'id': '121'}],\n",
       "      'dmas': [{'id': 278},\n",
       "       {'id': 289},\n",
       "       {'id': 290},\n",
       "       {'id': 366},\n",
       "       {'id': 417}],\n",
       "      'boxOfficeInfo': {'phoneNumberDetail': '(919) 424-1400',\n",
       "       'openHoursDetail': 'Monday through Thursday: Noon – 5pm Friday: Noon – 4pm Day of Event: 4pm through main act appearing on stage',\n",
       "       'acceptedPaymentDetail': 'Cash, Visa, Mastercard, Discover, American Express',\n",
       "       'willCallDetail': 'Located at box office windows at front of building. Opens at 12pm day of show. PLEASE BRING A PICTURE ID, THE ACTUAL CREDIT CARD USED TO PURCHASE THE TICKETS, AND YOUR ORDER NUMBER.'},\n",
       "      'parkingDetail': 'Surrounding the venue.',\n",
       "      'generalInfo': {'childRule': 'Children 2 and under are free.'},\n",
       "      'upcomingEvents': {'_total': 33, 'ticketmaster': 33},\n",
       "      'ada': {'adaPhones': '(919) 424-1400 ',\n",
       "       'adaCustomCopy': 'This is an \"All general admission event.\" Patrons requesting accessible seating may purchase and use regular general admission seating. Please click \"back\" to previous page and continue with standard purchase. The venue is accessible to all. Enjoy the show! ',\n",
       "       'adaHours': 'Monday through Thursday: Noon – 5pm\\nFriday: Noon – 4pm'},\n",
       "      '_links': {'self': {'href': '/discovery/v2/venues/KovZpZAJIedA?locale=en-us'}}}],\n",
       "    'attractions': [{'name': 'Zomboy',\n",
       "      'type': 'attraction',\n",
       "      'id': 'K8vZ9172YHf',\n",
       "      'test': False,\n",
       "      'url': 'https://www.ticketmaster.com/zomboy-tickets/artist/1726697',\n",
       "      'locale': 'en-us',\n",
       "      'externalLinks': {'youtube': [{'url': 'https://www.youtube.com/user/ZomboyOfficialMusic'}],\n",
       "       'twitter': [{'url': 'https://twitter.com/Zomboy_music'}],\n",
       "       'facebook': [{'url': 'https://www.facebook.com/ZomboyOfficial'}],\n",
       "       'wiki': [{'url': 'https://en.wikipedia.org/wiki/Zomboy'}],\n",
       "       'musicbrainz': [{'id': 'c764f48c-8ed7-46aa-8d1e-b1df6ec0f2ef'}],\n",
       "       'homepage': [{'url': 'http://zomboy.com/'}]},\n",
       "      'images': [{'ratio': '3_2',\n",
       "        'url': 'https://s1.ticketm.net/dam/a/0b7/cd8453cb-d664-47f4-abae-3362808f80b7_893831_TABLET_LANDSCAPE_3_2.jpg',\n",
       "        'width': 1024,\n",
       "        'height': 683,\n",
       "        'fallback': False},\n",
       "       {'ratio': '16_9',\n",
       "        'url': 'https://s1.ticketm.net/dam/a/0b7/cd8453cb-d664-47f4-abae-3362808f80b7_893831_EVENT_DETAIL_PAGE_16_9.jpg',\n",
       "        'width': 205,\n",
       "        'height': 115,\n",
       "        'fallback': False},\n",
       "       {'ratio': '16_9',\n",
       "        'url': 'https://s1.ticketm.net/dam/a/0b7/cd8453cb-d664-47f4-abae-3362808f80b7_893831_RECOMENDATION_16_9.jpg',\n",
       "        'width': 100,\n",
       "        'height': 56,\n",
       "        'fallback': False},\n",
       "       {'ratio': '3_2',\n",
       "        'url': 'https://s1.ticketm.net/dam/a/0b7/cd8453cb-d664-47f4-abae-3362808f80b7_893831_ARTIST_PAGE_3_2.jpg',\n",
       "        'width': 305,\n",
       "        'height': 203,\n",
       "        'fallback': False},\n",
       "       {'ratio': '16_9',\n",
       "        'url': 'https://s1.ticketm.net/dam/a/0b7/cd8453cb-d664-47f4-abae-3362808f80b7_893831_TABLET_LANDSCAPE_16_9.jpg',\n",
       "        'width': 1024,\n",
       "        'height': 576,\n",
       "        'fallback': False},\n",
       "       {'ratio': '16_9',\n",
       "        'url': 'https://s1.ticketm.net/dam/a/0b7/cd8453cb-d664-47f4-abae-3362808f80b7_893831_RETINA_PORTRAIT_16_9.jpg',\n",
       "        'width': 640,\n",
       "        'height': 360,\n",
       "        'fallback': False},\n",
       "       {'ratio': '16_9',\n",
       "        'url': 'https://s1.ticketm.net/dam/a/0b7/cd8453cb-d664-47f4-abae-3362808f80b7_893831_RETINA_LANDSCAPE_16_9.jpg',\n",
       "        'width': 1136,\n",
       "        'height': 639,\n",
       "        'fallback': False},\n",
       "       {'ratio': '4_3',\n",
       "        'url': 'https://s1.ticketm.net/dam/a/0b7/cd8453cb-d664-47f4-abae-3362808f80b7_893831_CUSTOM.jpg',\n",
       "        'width': 305,\n",
       "        'height': 225,\n",
       "        'fallback': False},\n",
       "       {'ratio': '3_2',\n",
       "        'url': 'https://s1.ticketm.net/dam/a/0b7/cd8453cb-d664-47f4-abae-3362808f80b7_893831_RETINA_PORTRAIT_3_2.jpg',\n",
       "        'width': 640,\n",
       "        'height': 427,\n",
       "        'fallback': False},\n",
       "       {'ratio': '16_9',\n",
       "        'url': 'https://s1.ticketm.net/dam/a/0b7/cd8453cb-d664-47f4-abae-3362808f80b7_893831_TABLET_LANDSCAPE_LARGE_16_9.jpg',\n",
       "        'width': 2048,\n",
       "        'height': 1152,\n",
       "        'fallback': False}],\n",
       "      'classifications': [{'primary': True,\n",
       "        'segment': {'id': 'KZFzniwnSyZfZ7v7nJ', 'name': 'Music'},\n",
       "        'genre': {'id': 'KnvZfZ7vAvF', 'name': 'Dance/Electronic'},\n",
       "        'subGenre': {'id': 'KZazBEonSMnZfZ7vAJ1', 'name': 'Club Dance'},\n",
       "        'type': {'id': 'KZAyXgnZfZ7v7nI', 'name': 'Undefined'},\n",
       "        'subType': {'id': 'KZFzBErXgnZfZ7v7lJ', 'name': 'Undefined'},\n",
       "        'family': False}],\n",
       "      'upcomingEvents': {'_total': 4, 'tmr': 1, 'ticketmaster': 3},\n",
       "      '_links': {'self': {'href': '/discovery/v2/attractions/K8vZ9172YHf?locale=en-us'}}}]}}]}"
      ]
     },
     "execution_count": 356,
     "metadata": {},
     "output_type": "execute_result"
    }
   ],
   "source": [
    "search = requests.get(url).json()\n",
    "search[\"_embedded\"]"
   ]
  },
  {
   "cell_type": "code",
   "execution_count": 247,
   "metadata": {},
   "outputs": [
    {
     "data": {
      "text/plain": [
       "'Ali Wong: The Milk & Money Tour Nashville Comedy Festival'"
      ]
     },
     "execution_count": 247,
     "metadata": {},
     "output_type": "execute_result"
    }
   ],
   "source": [
    "search[\"_embedded\"][\"events\"][0][\"name\"]"
   ]
  },
  {
   "cell_type": "code",
   "execution_count": 97,
   "metadata": {
    "scrolled": true
   },
   "outputs": [
    {
     "data": {
      "text/plain": [
       "{'name': 'T-Mobile Arena',\n",
       " 'type': 'venue',\n",
       " 'id': 'KovZpZAIIIdA',\n",
       " 'test': False,\n",
       " 'url': 'https://www.ticketmaster.com/tmobile-arena-tickets-las-vegas/venue/376926',\n",
       " 'locale': 'en-us',\n",
       " 'images': [{'ratio': '3_1',\n",
       "   'url': 'https://s1.ticketm.net/dam/v/0c7/9be05a5a-cc90-4562-abd2-687d8e1c90c7_438381_SOURCE.jpg',\n",
       "   'width': 1500,\n",
       "   'height': 500,\n",
       "   'fallback': False},\n",
       "  {'ratio': '3_1',\n",
       "   'url': 'https://s1.ticketm.net/dam/v/0c7/9be05a5a-cc90-4562-abd2-687d8e1c90c7_438381_SOURCE.jpg',\n",
       "   'width': 1500,\n",
       "   'height': 500,\n",
       "   'fallback': False}],\n",
       " 'postalCode': '89158',\n",
       " 'timezone': 'America/Los_Angeles',\n",
       " 'city': {'name': 'Las Vegas'},\n",
       " 'state': {'name': 'Nevada', 'stateCode': 'NV'},\n",
       " 'country': {'name': 'United States Of America', 'countryCode': 'US'},\n",
       " 'address': {'line1': '3780 S Las Vegas Blvd'},\n",
       " 'location': {'longitude': '-115.178313', 'latitude': '36.102807'},\n",
       " 'markets': [{'name': 'Las Vegas', 'id': '14'}],\n",
       " 'dmas': [{'id': 319}],\n",
       " 'boxOfficeInfo': {'phoneNumberDetail': '844-646-7849 boxoffice@tmobilearena.com',\n",
       "  'openHoursDetail': 'T-Mobile Ticket Office: 12:00pm- 6:00pm Monday - Saturday, Closed Sunday. Day of Event 12:00pm – until Start of Main Event.',\n",
       "  'acceptedPaymentDetail': 'Cash and credit cards may be used at the box office.',\n",
       "  'willCallDetail': 'Bring Photo ID, Credit Card, and Ticketmaster confirmation number. ONLY the credit card holder may pick up will call tickets. Should someone other than the card holder need to pick up tickets it must be set up in advance: refer to customer service 1-800-745-3000. Will Call should be picked up 2 hours before event time on day of show to avoid delays.'},\n",
       " 'parkingDetail': 'Reserved Event Parking is available on designated levels of the parking facilities at New York-New York, Monte Carlo, and the Aria Event Parking Garage. Parking in these locations is available on a first come, first-served basis and subject to availability. We encourage guests to purchase event parking in advance as Reserved Event Parking may not be available for purchase on-site on the day of the event at these locations due to demand. Guests who do not have Reserved Event Parking may be turned away from these locations on event night. For information: https://lasvegas.parkmobile.com/',\n",
       " 'accessibleSeatingDetail': 'T-Mobile Arena is accessible to all customers. Should you have special Vision or Hearing requirements place contact T-Mobile directly at 702-692-1616.',\n",
       " 'generalInfo': {'generalRule': 'Approved bags are 4.5” x 6” clutch/small bag or a 12” x 12” x 6” clear bag only. No Smoking, no audio recorders, no flash photography, no outside food or beverages. For a full list of prohibited items, please visit http://www.t-mobilearena.com/guest-services/prohibited-items',\n",
       "  'childRule': 'Children under 3 are free when seated on the parents lap. Children 4 years of age and older must have a ticket to enter the venue. Children under the age of 16 must be accompanied by a ticketed guardian.'},\n",
       " 'upcomingEvents': {'_total': 46, 'tmr': 39, 'ticketmaster': 7},\n",
       " '_links': {'self': {'href': '/discovery/v2/venues/KovZpZAIIIdA?locale=en-us'}}}"
      ]
     },
     "execution_count": 97,
     "metadata": {},
     "output_type": "execute_result"
    }
   ],
   "source": [
    "search[\"_embedded\"][\"events\"][][\"_embedded\"][\"venues\"][0]"
   ]
  },
  {
   "cell_type": "code",
   "execution_count": 236,
   "metadata": {},
   "outputs": [],
   "source": [
    "states = []\n",
    "#search[\"_embedded\"][\"events\"][0][\"_embedded\"][\"venues\"][0][\"state\"]\n",
    "for i in range(0,199):\n",
    "    location = search[\"_embedded\"][\"events\"][i][\"_embedded\"][\"venues\"][0][\"state\"]\n",
    "    for j in range(1,len(states)):\n",
    "        if location in states[j].values():\n",
    "            states[j][\"Count\"] += 1\n",
    "        else:\n",
    "            states.append(location)"
   ]
  },
  {
   "cell_type": "code",
   "execution_count": 232,
   "metadata": {},
   "outputs": [],
   "source": [
    "states = []"
   ]
  },
  {
   "cell_type": "code",
   "execution_count": 233,
   "metadata": {},
   "outputs": [],
   "source": [
    "location = search[\"_embedded\"][\"events\"][1][\"_embedded\"][\"venues\"][0][\"state\"]"
   ]
  },
  {
   "cell_type": "code",
   "execution_count": 234,
   "metadata": {},
   "outputs": [],
   "source": [
    "states.append(location)"
   ]
  },
  {
   "cell_type": "code",
   "execution_count": 235,
   "metadata": {},
   "outputs": [
    {
     "ename": "SyntaxError",
     "evalue": "unexpected EOF while parsing (<ipython-input-235-880db9316a63>, line 3)",
     "output_type": "error",
     "traceback": [
      "\u001b[0;36m  File \u001b[0;32m\"<ipython-input-235-880db9316a63>\"\u001b[0;36m, line \u001b[0;32m3\u001b[0m\n\u001b[0;31m    \u001b[0m\n\u001b[0m    ^\u001b[0m\n\u001b[0;31mSyntaxError\u001b[0m\u001b[0;31m:\u001b[0m unexpected EOF while parsing\n"
     ]
    }
   ],
   "source": [
    "for state in states:\n",
    "    if location in state.values():\n",
    "        "
   ]
  },
  {
   "cell_type": "code",
   "execution_count": 228,
   "metadata": {},
   "outputs": [
    {
     "ename": "IndexError",
     "evalue": "list index out of range",
     "output_type": "error",
     "traceback": [
      "\u001b[0;31m---------------------------------------------------------------------------\u001b[0m",
      "\u001b[0;31mIndexError\u001b[0m                                Traceback (most recent call last)",
      "\u001b[0;32m<ipython-input-228-d518c2fa140a>\u001b[0m in \u001b[0;36m<module>\u001b[0;34m()\u001b[0m\n\u001b[0;32m----> 1\u001b[0;31m \u001b[0mstates\u001b[0m\u001b[0;34m[\u001b[0m\u001b[0;36m0\u001b[0m\u001b[0;34m]\u001b[0m\u001b[0;34m[\u001b[0m\u001b[0;34m\"Count\"\u001b[0m\u001b[0;34m]\u001b[0m \u001b[0;34m=\u001b[0m \u001b[0;36m1\u001b[0m\u001b[0;34m\u001b[0m\u001b[0m\n\u001b[0m",
      "\u001b[0;31mIndexError\u001b[0m: list index out of range"
     ]
    }
   ],
   "source": [
    "states[0][\"Count\"] = 1"
   ]
  },
  {
   "cell_type": "code",
   "execution_count": 237,
   "metadata": {},
   "outputs": [
    {
     "data": {
      "text/plain": [
       "[]"
      ]
     },
     "execution_count": 237,
     "metadata": {},
     "output_type": "execute_result"
    }
   ],
   "source": [
    "states"
   ]
  },
  {
   "cell_type": "code",
   "execution_count": null,
   "metadata": {},
   "outputs": [],
   "source": []
  }
 ],
 "metadata": {
  "kernelspec": {
   "display_name": "Python 3",
   "language": "python",
   "name": "python3"
  },
  "language_info": {
   "codemirror_mode": {
    "name": "ipython",
    "version": 3
   },
   "file_extension": ".py",
   "mimetype": "text/x-python",
   "name": "python",
   "nbconvert_exporter": "python",
   "pygments_lexer": "ipython3",
   "version": "3.6.6"
  }
 },
 "nbformat": 4,
 "nbformat_minor": 2
}
